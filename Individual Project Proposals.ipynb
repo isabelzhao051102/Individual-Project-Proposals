{
 "cells": [
  {
   "cell_type": "markdown",
   "id": "ed54cdba",
   "metadata": {},
   "source": [
    "Proposal 1: The Influence of Online Social Interactions on Overall Well-Being\n",
    "\n",
    "Research Question: Do online social interactions positively affect individuals’ overall well-being? \n",
    "\n",
    "Variables: \n",
    "\n",
    "Independent variable—frequency of online interactions (for example: the number of video calls or social media interactions per week). A histogram will express the shape of the frequency of online interactions. This would provide insight into whether most people have low or high online interactions, showing the variation of the data that may carry meaningful analysis. \n",
    "\n",
    "Dependent variable—Overall well-being score, based on mental, emotional, and physical health indicators on self-reported survey data. A box plot of well-being scores will aid in viewing dispersion and central tendency of well-being across various categories of frequency of interaction. This will outline any potential outliers and enable viewing range and median levels of well-being across the different interaction groups. \n",
    "\n",
    "Analysis:\n",
    "\n",
    "Method: Conduct simple linear regression to examine the relationship between online interaction frequency and well-being scores. \n",
    "\n",
    "Assumptions: The relationship is linear, data points are independent, and residuals are normally distributed. \n",
    "\n",
    "Hypothesis and Expected Results:\n",
    "\n",
    "Hypothesis: The null hypothesis is that there is no relationship between the frequency of online interactions and overall well-being (slope = 0). \n",
    "\n",
    "Discussion: If the results show a significant positive slope, then it implies that increased online interaction frequency is associated with higher well-being. "
   ]
  },
  {
   "cell_type": "markdown",
   "id": "dc79ebc6",
   "metadata": {},
   "source": [
    "Proposal 2: Role of Social Support Networks in Stress Reduction\n",
    "\n",
    "Research Question: How does the strength of social support networks influence individuals’ ability to cope with stress? \n",
    "\n",
    "Variables:\n",
    "\n",
    "Independent Variable: Strength of social support network (for example: number of close friends or supportive family members). A bar chart displaying the number of individuals within each level of social support can show the distribution across these categories. This visualization is useful because it shows how distributed these categories are, helping to assess if there are enough data points in each level for comparisons. \n",
    "\n",
    "Dependent Variable: Reported stress levels gathered from survey responses. A box plot of stress levels for each category of social support strength can provide a visual comparison of the spread of stress levels across different support levels. This visualization helps understand the variation in stress across support levels and spot any outliers that might affect the analysis. \n",
    "\n",
    "Analysis:\n",
    "\n",
    "Method: Use simple linear regression to evaluate the effect of social support strength on stress levels. \n",
    "\n",
    "Assumptions: Stress levels change linearly with social support, data points are independent, and residuals follow a normal distribution. \n",
    "\n",
    "Hypothesis and Expected Results:\n",
    "\n",
    "Hypothesis: The null hypothesis is that there is no relationship between social support and stress levels (slope = 0). \n",
    "\n",
    "Discussion: If the analysis finds a significant negative slope, it would imply that higher social support is associated with lower stress levels. "
   ]
  },
  {
   "cell_type": "markdown",
   "id": "56d3db72",
   "metadata": {},
   "source": [
    "Proposal 3: Influence of Workplace-Social Interaction on Job Satisfaction\n",
    "\n",
    "Research Question: Does the frequency of social interactions in the workplace affect job satisfaction? \n",
    "\n",
    "Variables:\n",
    "\n",
    "Independent Variable: Frequency of social interactions in the workplace (e.g., informal conversations with colleagues). A histogram of workplace interaction frequency can illustrate the distribution of how often individuals engage socially at work. This visualization helps identify the most common interaction levels. \n",
    "\n",
    "Dependent Variable: Job satisfaction score, as measured by survey responses. A box plot of job satisfaction scores, grouped by interaction frequency categories, will show the spread and median satisfaction levels for each interaction group. This is useful for identifying any patterns for interaction levels with higher or lower job satisfaction. \n",
    "\n",
    "Analysis:\n",
    "\n",
    "Method: Perform simple linear regression to assess the relationship between workplace interaction frequency and job satisfaction. \n",
    "\n",
    "Assumptions: Job satisfaction changes linearly with interaction frequency, individuals’ responses are independent, and residuals are normally distributed. \n",
    "\n",
    "Hypothesis and Expected Results:\n",
    "\n",
    "Hypothesis: The null hypothesis states there is no effect of workplace interactions on job satisfaction (slope = 0). \n",
    "\n",
    "Discussion: If the results indicate a significant positive slope, it suggests that higher levels of workplace interaction correlate with increased job satisfaction. "
   ]
  }
 ],
 "metadata": {
  "kernelspec": {
   "display_name": "Python 3 (ipykernel)",
   "language": "python",
   "name": "python3"
  },
  "language_info": {
   "codemirror_mode": {
    "name": "ipython",
    "version": 3
   },
   "file_extension": ".py",
   "mimetype": "text/x-python",
   "name": "python",
   "nbconvert_exporter": "python",
   "pygments_lexer": "ipython3",
   "version": "3.11.6"
  }
 },
 "nbformat": 4,
 "nbformat_minor": 5
}
